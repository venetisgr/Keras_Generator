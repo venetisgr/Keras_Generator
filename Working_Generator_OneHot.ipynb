{
 "cells": [
  {
   "cell_type": "code",
   "execution_count": 1,
   "metadata": {},
   "outputs": [
    {
     "name": "stderr",
     "output_type": "stream",
     "text": [
      "Using TensorFlow backend.\n"
     ]
    },
    {
     "name": "stdout",
     "output_type": "stream",
     "text": [
      "1211\n",
      "['A.J._Buckley', 'A.R._Rahman', 'Aamir_Khan', 'Aaron_Tveit', 'Aaron_Yoo', 'Abbie_Cornish', 'Abigail_Breslin', 'Abigail_Spencer', 'Adam_Beach', 'Adam_Brody', 'Adam_Copeland', 'Adam_Driver', 'Adrianne_Curry', 'Adrianne_Palicki', 'Agyness_Deyn', 'Aidan_Turner', 'Ajay_Devgn', 'Akshay_Kumar', 'Alain_Delon', 'Alan_Alda', 'Alan_Cumming', 'Alan_Rickman', 'Alan_Tudyk', 'Alba_Rohrwacher', 'Aldis_Hodge', 'Alexander_Siddig', 'Alexandra_Daddario', 'Alexandra_Roach', 'Alexa_Davalos', 'Alexz_Johnson', 'Alex_Borstein', 'Alex_Kingston', 'Alex_Pettyfer', 'Alex_Trebek', 'Alfre_Woodard', 'Alice_Eve', 'Alicja_Bachleda', 'Alison_Arngrim', 'Alison_Pill', 'Allison_Williams', 'Amanda_Seyfried', 'Amaury_Nolasco', 'Amber_Riley', 'America_Ferrera', 'Amitabh_Bachchan', 'Amy_Poehler', 'Amy_Schumer', 'Ana_Gasteyer', 'Andrea_Riseborough', 'Andrew_Dice_Clay', 'Andrew_Garfield', 'Andrew_Lee_Potts', 'Andrew_Rannells', 'Andrew_Scott', 'Andre_Braugher', 'Andy_Richter', 'Andy_Samberg', 'Aneurin_Barnard', 'Angela_Kinsey', 'Ang_Lee', 'Anne_Hathaway', 'Ansel_Elgort', 'Anthony_Anderson', 'Anthony_Mackie', 'Anthony_Rapp', 'Antonio_Cupo', 'Anton_Yelchin', 'Arden_Cho', 'Armand_Assante', 'Armie_Hammer', 'Asa_Butterfield', 'Ashley_Greene', 'Ashley_Jensen', 'Audra_McDonald', 'Audrina_Patridge', 'Avan_Jogia', 'B.J._Novak', 'Barbara_Eden', 'Barbara_Hershey', 'Bear_Grylls', 'Bellamy_Young', 'Ben_Feldman', 'Ben_McKenzie', 'Ben_Stiller', 'Ben_Whishaw', 'Bethany_Mota', 'Beth_Grant', 'Betty_White', 'Billie_Joe_Armstrong', 'Bill_Nighy', 'Bill_Pullman', 'Bingbing_Li', 'Blair_Underwood', 'Blake_Michael', 'Blake_Shelton', 'Bobby_Cannavale', 'Bob_Barker', 'Bonnie_Wright', 'Booboo_Stewart', 'Bradley_Steven_Perry', 'Brad_Paisley', 'Breckin_Meyer', 'Brendan_Gleeson', 'Brenda_Blethyn', 'Brett_Davern', 'Brian_Blessed', 'Brian_Cox', 'Brian_Dennehy', 'Bridget_Moynahan', 'Bridget_Regan', 'Brit_Marling', 'Brooke_Burke-Charvet', 'Bruce_Boxleitner', 'Bruno_Ganz', 'Bruno_Mars', 'Burt_Reynolds', 'Caitriona_Balfe', 'Caity_Lotz', 'Callan_McAuliffe', 'Callie_Thorne', 'Cameron_Boyce', 'Candace_Cameron_Bure', 'Candice_Accola', 'Candice_Patton', 'Caroline_Rhea', 'Carolyn_Hennesy', 'Carrie_Ann_Inaba', 'Carrie_Fisher', 'Carrie_Underwood', 'Casey_Affleck', 'Casey_Wilson', 'Cassandra_Peterson', 'Caterina_Murino', 'Caterina_Scorsone', 'Catherine_Hardwicke', 'CCH_Pounder', 'Cedric_the_Entertainer', 'Celia_Imrie', 'Chace_Crawford', 'Chadwick_Boseman', 'Charice', 'Charles_Dance', 'Charles_S._Dutton', 'Charlie_Day', 'Charlotte_Gainsbourg', 'Chazz_Palminteri', 'Chelsea_Handler', 'Cher', 'Cheryl_Ladd', 'Chiwetel_Ejiofor', 'Chi_McBride', 'Chloe_Bennet', 'Chloe_Dykstra', 'Christian_Kane', 'Christina_Hendricks', 'Christina_Ricci', 'Christopher_Mintz-Plasse', 'Chris_Colfer', 'Chris_Hemsworth', 'Chris_Lowell', 'Chris_Martin', 'Chris_Messina', 'Chris_Pine', 'Cierra_Ramirez', 'Cilla_Black', 'Cillian_Murphy', 'Cindy_Williams', 'Claudia_Black', 'Claudia_Lee', 'Cliff_Curtis', 'Clive_Owen', 'Colin_Donnell', 'Constance_Zimmer', 'Corbin_Bleu', 'Corey_Stoll', 'Cory_Monteith', 'Costas_Mandylor', 'Cote_de_Pablo', 'Cristin_Milioti', 'Cyndi_Lauper', 'Dakota_Fanning', 'Damian_Lewis', 'Damon_Lindelof', 'Damon_Wayans', 'Dana_Delany', 'Dane_Cook', 'Danica_McKellar', 'Danielle_Campbell', 'Danielle_Panabaker', 'Daniel_Auteuil', 'Daniel_Craig', 'Daniel_Dae_Kim', 'Daniel_Tosh', 'Danny_Dyer', 'Danny_McBride', 'Danny_Pino', 'Dan_Aykroyd', 'Dan_Fogler', 'Dan_Stevens', 'Darren_Criss', 'Dave_Bautista', 'Dave_Foley', 'David_Attenborough', 'David_Cassidy', 'David_Faustino', 'David_Giuntoli', 'David_Harewood', 'David_Henrie', 'David_Jason', 'David_Koechner', 'David_Kross', 'David_Letterman', 'David_Lyons', 'David_Mamet', 'David_Mazouz', 'David_Morrissey', 'David_Morse', 'David_Oyelowo', 'David_Schwimmer', 'David_Suchet', 'David_Tennant', 'David_Warner', 'David_Wenham', 'David_Zayas', 'Dawn_French', 'Dawn_Wells', 'Dean_Cain', 'Debi_Mazar', 'Debra_Jo_Rupp', 'Deidre_Hall', 'Della_Reese', 'Demian_Bichir', 'Denise_Crosby', 'Denis_Leary', 'Derek_Jacobi', 'Derek_Mears', 'Derek_Theler', 'Dermot_Mulroney', 'Diablo_Cody', 'Diane_Keaton', 'Diane_Kruger', 'Dick_Van_Dyke', 'Diego_Klattenhoff', 'Diego_Luna', 'Diogo_Morgado', 'Domhnall_Gleeson', 'Dominic_Cooper', 'Donald_Glover', 'Donald_Sutherland', 'Donal_Logue', 'Donna_Mills', 'Donna_Murphy', 'Donnie_Yen', 'Don_Rickles', 'Dot-Marie_Jones', 'Douglas_Booth', 'Dougray_Scott', 'Doutzen_Kroes', 'Dove_Cameron', 'Dr._Dre', 'Drake_Bell', 'Dreama_Walker', 'Drea_de_Matteo', 'Drew_Carey', 'Drew_Roy', 'Dustin_Milligan', 'Dyan_Cannon', 'Dylan_McDermott', 'Dylan_Moran', 'Fanny_Ardant', 'Farrah_Abraham', 'Fawad_Khan', 'Felicia_Day', 'Felicity_Jones', 'Fergie', 'Finola_Hughes', 'Fiona_Shaw', 'Florence_Henderson', 'Forest_Whitaker', 'Francia_Raisa', 'Freddie_Highmore', 'Fred_Williamson', 'Freema_Agyeman', 'Freida_Pinto', 'Garrett_Hedlund', 'Garry_Marshall', 'Gary_Busey', 'Gaspard_Ulliel', 'Gates_McFadden', 'Geena_Davis', 'Gemma_Arterton', 'Gemma_Atkinson', 'Geri_Halliwell', 'Gilles_Marini', 'Gillian_Jacobs', 'Gina_Carano', 'Ginger_Rogers', 'Ginnifer_Goodwin', 'Giovanni_Ribisi', 'Giuliana_Rancic', 'Glenn_Close', 'Glen_Hansard', 'Gloria_Steinem', 'Golshifteh_Farahani', 'Goran_Visnjic', 'Gordon_Ramsay', 'Grant_Bowler', 'Greer_Garson', 'Gregg_Sulkin', 'Greg_Finley', 'Greg_Grunberg', 'Greta_Gerwig', 'Gugu_Mbatha-Raw', 'Guillaume_Canet', 'Guy_Pearce', 'Gwendoline_Christie', 'Hailee_Steinfeld', 'Hal_Sparks', 'Hannah_Simone', 'Hannah_Spearritt', 'Hans_Zimmer', 'Harry_Connick_Jr', 'Harry_Shum_Jr', 'Harry_Treadaway', 'Harvey_Keitel', 'Hayley_Marie_Norman', 'Heather_Graham', 'Hector_Elizondo', 'Heidi_Montag', 'Heike_Makatsch', 'Helena_Bonham_Carter', 'Henry_Cavill', 'Hilarie_Burton', 'Hilary_Swank', 'Hill_Harper', 'Holliday_Grainger', 'Hope_Solo', 'Howie_Mandel', 'Hugh_Bonneville', 'Hugh_Dancy', 'Hugh_Jackman', 'Hugh_Laurie', 'Hunter_Parrish', 'Hye-kyo_Song', 'Iain_Glen', 'Ian_Somerhalder', 'Idina_Menzel', 'Imelda_Staunton', 'India_de_Beaufort', 'Indira_Varma', 'Ingrid_Bergman', 'Irina_Shayk', 'Irrfan_Khan', 'Isla_Fisher', 'Iwan_Rheon', 'Izabella_Scorupco', 'J.J._Abrams', 'J.K._Simmons', 'Jack_Black', 'Jack_Coleman', 'Jack_Davenport', 'Jack_Griffo', 'Jack_Lemmon', 'Jack_Reynor', 'Jack_Whitehall', 'Jacob_Latimore', 'Jacqueline_Emerson', 'Jacqueline_Fernandez', 'Jacqueline_MacInnes_Wood', 'Jaime_Winstone', 'Jai_Courtney', 'Jake_Abel', 'Jake_Johnson', 'Jake_T._Austin', 'Jamel_Debbouze', 'James_Badge_Dale', 'James_Cosmo', 'James_Cromwell', 'James_Earl_Jones', 'James_Frain', 'James_Lafferty', 'James_Lipton', 'James_Marsden', 'James_Maslow', 'James_Nesbitt', 'James_Purefoy', 'James_Roday', 'James_Woods', 'Jamie-Lynn_Sigler', 'Jamie_Chung', 'Jamie_Foxx', 'Jana_Kramer', 'Janeane_Garofalo', 'Janel_Parrish', 'Janet_Jackson', 'Janet_McTeer', 'Janet_Montgomery', 'Jane_Badler', 'Janice_Dickinson', 'Janina_Gavankar', 'Janine_Turner', 'January_Jones', 'Jared_Harris', 'Jared_Leto', 'Jasika_Nicole', 'Jasmine_Guy', 'Jason_Bateman', 'Jason_Clarke', 'Jason_David_Frank', 'Jason_Dohring', 'Jason_Earles', 'Jason_Mantzoukas', 'Jason_Segel', 'Jay_Baruchel', 'Jean-Marc_Barr', 'Jean-Paul_Belmondo', 'Jeanine_Mason', 'Jeannie_Mai', 'Jean_Reno', 'Jean_Smart', 'Jeffrey_Donovan', 'Jeffrey_Tambor', 'Jeffrey_Wright', 'Jeff_Daniels', 'Jeff_Garlin', 'Jeff_Goldblum', 'Jemaine_Clement', 'Jenifer_Lewis', 'Jenna_Coleman', 'Jenna_Fischer', 'Jennette_McCurdy', 'Jennifer_Beals', 'Jennifer_Carpenter', 'Jennifer_Coolidge', 'Jennifer_Ehle', 'Jennifer_Esposito', 'Jennifer_Saunders', 'Jenny_Slate', 'Jensen_Ackles', 'Jen_Lilley', 'Jeremy_Clarkson', 'Jeremy_Irons', 'Jeremy_Irvine', 'Jeremy_Piven', 'Jeremy_Renner', 'Jeremy_Shada', 'Jeremy_Sisto', 'Jerry_Ferrara', 'Jerry_Trainor', 'Jesse_Eisenberg', 'Jesse_McCartney', 'Jesse_Metcalfe', 'Jesse_Spencer', 'Jesse_Williams', 'Jessica_De_Gouw', 'Jessica_Lowndes', 'Jessie_J', 'Jet_Li', 'Jillian_Harris', 'Jillian_Michaels', 'Jill_Scott', 'Jimmy_Fallon', 'Jim_Broadbent', 'Jim_Caviezel', 'Jim_Jefferies', 'Jim_Sturgess', 'Joanna_Krupa', 'Joanna_Lumley', 'Joanne_Froggatt', 'Joan_Allen', 'Joan_Chen', 'Joan_Cusack', 'Joan_Rivers', 'Joaquim_de_Almeida', 'Joel_Edgerton', 'Joel_Kinnaman', 'Joel_McHale', 'Joe_Flanigan', 'Johnathon_Schaech', 'Johnny_Galecki', 'John_Abraham', 'John_Amos', 'John_Barrowman', 'John_Carroll_Lynch', 'John_Cho', 'John_Cleese', 'John_Corbett', 'John_DiMaggio', 'John_Francis_Daley', 'John_Gallagher_Jr', 'John_Goodman', 'John_Hawkes', 'John_Hodgman', 'John_Hurt', 'John_Krasinski', 'John_Larroquette', 'John_Lasseter', 'John_Lloyd_Young', 'John_Mulaney', 'John_Nettles', 'John_Noble', 'John_Oliver', 'John_Rhys-Davies', 'John_Simm', 'John_Slattery', 'John_Terry', 'John_Turturro', 'Jonathan_Jackson', 'Jonathan_Rhys_Meyers', 'Jon_Favreau', 'Jon_Huertas', 'Jon_Lovitz', 'Jon_Pertwee', 'Jon_Seda', 'Jordana_Brewster', 'Jordan_Gavaris', 'Jordin_Sparks', 'Jorge_Garcia', 'Jorja_Fox', 'Joseph_Gordon-Levitt', 'Josh_Brolin', 'Josh_Duhamel', 'Josh_Gad', 'Josh_Groban', 'Josh_Henderson', 'Josh_Peck', 'Josh_Radnor', 'Joss_Stone', 'Joss_Whedon', 'Judith_Light', 'Judy_Sheindlin', 'Julianne_Hough', 'Julianne_Nicholson', 'Julian_Sands', 'Julia_Louis-Dreyfus', 'Julia_Roberts', 'Julia_Stiles', 'Julie_Chen', 'Julie_Gonzalo', 'Julie_Walters', 'Justine_Ezarik', 'Kal_Penn', 'Kangana_Ranaut', 'Karan_Brar', 'Karla_Souza', 'Karl_Malden', 'Karoline_Herfurth', 'Katee_Sackhoff', 'Katey_Sagal', 'Kate_Beckinsale', 'Kate_Flannery', 'Kate_Mansi', 'Kate_Mara', 'Kate_McKinnon', 'Kate_Mulgrew', 'Kate_Voegele', 'Kate_Walsh', 'Katharine_McPhee', 'Katherine_Heigl', 'Katherine_Jenkins', 'Katherine_McNamara', 'Katheryn_Winnick', 'Kathie_Lee_Gifford', 'Kathleen_Robertson', 'Kathryn_Hahn', 'Kathryn_Joosten', 'Kathryn_McCormick', 'Kathryn_Prescott', 'Kathy_Griffin', 'Katie_Aselton', 'Katie_Cleary', 'Katie_Leclerc', 'Katie_Stevens', 'Katy_Perry', 'Kat_Dennings', 'Kaya_Scodelario', 'Kayvan_Novak', 'Keegan_Allen', 'Keegan_Connor_Tracy', 'Keeley_Hawes', 'Kellan_Lutz', 'Kelli_Berglund', 'Kelli_Giddish', 'Kelli_Williams', 'Kelly_Brook', 'Kelly_Macdonald', 'Kelly_Monaco', 'Kelly_Reilly', 'Kelly_Rutherford', 'Kel_Mitchell', 'Kenan_Thompson', 'Kendra_Wilkinson', 'Kenny_Rogers', 'Kenton_Duty', 'Kenya_Moore', 'Ken_Jeong', 'Ken_Marino', 'Keri_Hilson', 'Keri_Russell', 'Kesha', 'Kevin_Bacon', 'Kevin_Clash', 'Kevin_McHale', 'Kevin_Smith', 'Kid_Rock', 'Kiefer_Sutherland', 'Kiernan_Shipka', 'Kierston_Wareing', 'Kimberly_Elise', 'Kimberly_Williams-Paisley', 'Kim_Raver', 'Kim_Zolciak-Biermann', 'Kirsten_Vangsness', 'Kodi_Smit-McPhee', 'Kristen_Bell', 'Kristen_Johnston', 'Kristen_Schaal', 'Kristen_Stewart', 'Kristen_Wiig', 'Kristian_Alfonso', 'Kris_Jenner', 'Kriti_Sanon', 'Kuno_Becker', 'Kyle_MacLachlan', 'Kyle_Richards', 'Kylie_Minogue', 'Kym_Whitley', 'Lacey_Turner', 'Laura_Benanti', 'Laura_Carmichael', 'Laura_Dern', 'Laura_Haddock', 'Lauryn_Hill', 'Lavell_Crawford', 'Laverne_Cox', 'Laz_Alonso', 'La_La_Anthony', 'Lea_Michele', 'Lea_Salonga', 'Lea_Thompson', 'Lena_Horne', 'Leonor_Watling', 'Lesley_Manville', 'Leslie_Bibb', 'Leslie_Mann', 'Lily_Cole', 'Lily_Collins', 'Linda_Cardellini', 'Linda_Evans', 'Linda_Gray', 'Linda_Lavin', 'Lindsay_Duncan', 'Lindsey_Morgan', 'Lin_Shaye', 'Lisa_Edelstein', 'Lisa_Kudrow', 'Lisa_Ray', 'Lisa_Rinna', 'Lisa_Whelchel', 'Lizzy_Caplan', 'Loan_Chabanol', 'Lolo_Jones', 'Lorde', 'Lorenza_Izzo', 'Loretta_Devine', 'Loretta_Swit', 'Lotte_Verbeek', 'Louis_C.K', 'Louis_Theroux', 'Lou_Diamond_Phillips', 'Lou_Ferrigno', 'Lucas_Cruikshank', 'Lucas_Grabeel', 'Lucie_Arnaz', 'Lucy_Hale', 'Lucy_Punch', 'Luc_Besson', 'Ludacris', 'Luke_Arnold', 'Luke_Evans', 'Luke_Newberry', 'Maggie_Gyllenhaal', 'Malin_Akerman', 'Mallika_Sherawat', 'Mamie_Gummer', 'Mandy_Patinkin', 'Manish_Dayal', 'Marcia_Cross', 'Marcia_Gay_Harden', 'Marc_Blucas', 'Marc_Forster', 'Marc_Webb', 'Margot_Robbie', 'Margo_Martindale', 'Maria_Bamford', 'Maria_Canals-Barrera', 'Maria_de_Medeiros', 'Maria_Grazia_Cucinotta', 'Maria_Menounos', 'Maria_Sharapova', 'Mariel_Hemingway', 'Marie_Avgeropoulos', 'Marie_Osmond', 'Marilu_Henner', 'Marion_Cotillard', 'Marion_Ross', 'Mario_Casas', 'Mario_Lopez', 'Marisa_Miller', 'Mark_Feuerstein', 'Mark_Gatiss', 'Mark_Hamill', 'Mark_Harmon', 'Mark_Ruffalo', 'Mark_Sheppard', 'Mark_Strong', 'Mark_Webber', 'Marla_Gibbs', 'Martine_McCutcheon', 'Martin_Clunes', 'Martin_Henderson', 'Martin_Kove', 'Martin_Shaw', 'Mary-Louise_Parker', 'Mary_Elizabeth_Winstead', 'Mary_Lynn_Rajskub', 'Mary_McDonnell', 'Mathieu_Amalric', 'Mathieu_Kassovitz', 'Mathilda_May', 'Matthew_Fox', 'Matthew_Goode', 'Matthew_Lillard', 'Matthew_Macfadyen', 'Matthew_Modine', 'Matthew_Morrison', 'Matt_Bomer', 'Matt_Dallas', 'Matt_Lanter', 'Matt_Smith', 'Max_Adler', 'Max_Irons', 'Max_Schneider', 'Max_Thieriot', 'Maya_Rudolph', 'Meat_Loaf', 'Megan_Fox', 'Meghan_Trainor', 'Melissa_George', 'Melissa_Leo', 'Melissa_McCarthy', 'Melissa_Peterman', 'Melissa_Rauch', 'Melissa_Rycroft', 'Melody_Thomas_Scott', 'Melora_Hardin', 'Mena_Suvari', 'Meredith_Baxter', 'Mia_Wasikowska', 'Michaela_Conlin', 'Michael_Bay', 'Michael_C._Hall', 'Michael_Cera', 'Michael_Copon', 'Michael_Crichton', 'Michael_Cudlitz', 'Michael_Jai_White', 'Michael_K._Williams', 'Michael_Kelly', 'Michael_Madsen', 'Michael_Mando', 'Michael_Muhney', 'Michael_Shannon', 'Michael_Socha', 'Michael_Trevino', 'Michael_Weatherly', 'Michelle_Dockery', 'Michelle_Keegan', 'Michelle_Krusiec', 'Michelle_Monaghan', 'Michelle_Stafford', 'Michelle_Williams', 'Mila_Kunis', 'Miles_Teller', 'Miley_Cyrus', 'Milla_Jovovich', 'Mindy_Kaling', 'Miranda_Cosgrove', 'Miranda_Hart', 'Miranda_Kerr', 'Miranda_Lambert', 'Miranda_Richardson', 'Mira_Furlan', 'Miriam_Margolyes', 'Mischa_Barton', 'Misha_Collins', 'Missi_Pyle', 'Mitchel_Musso', 'Molly_Ringwald', 'Molly_Shannon', 'Monica_Raymund', 'Moon_Bloodgood', 'Moran_Atias', 'Morena_Baccarin', 'Moritz_Bleibtreu', 'Mya', 'MyAnna_Buring', 'Nadia_Bjorlin', 'Nana_Visitor', 'Nancy_Cartwright', 'Naomie_Harris', 'Naseeruddin_Shah', 'Natalia_Tena', 'Natalie_Dormer', 'Natalie_Martinez', 'Natalie_Portman', 'Natalie_Zea', 'Natascha_McElhone', 'Nate_Parker', 'Nathalie_Emmanuel', 'Nathaniel_Buzolic', 'Nathan_Fillion', 'Naturi_Naughton', 'Nazanin_Boniadi', 'Neal_McDonough', 'Neil_deGrasse_Tyson', 'Neil_Gaiman', 'Nelly', 'Nelly_Furtado', 'NeNe_Leakes', 'Neve_Campbell', 'Niall_Horan', 'Nichelle_Nichols', 'Nicki_Minaj', 'Nick_Kroll', 'Nick_Thune', 'Nicola_Peltz', 'Nicole_Beharie', 'Nicole_Richie', 'Nicole_Scherzinger', 'Nikolaj_Coster-Waldau', 'Nina_Arianda', 'Nina_Hoss', 'Noah_Emmerich', 'Noel_Clarke', 'Noel_Fielding', 'Noomi_Rapace', 'Norman_Reedus', 'Octavia_Spencer', 'Odette_Annable', 'Odeya_Rush', 'Olga_Kurylenko', 'Oliver_Platt', 'Olivia_Colman', 'Olivia_Cooke', 'Olivia_Holt', 'Olivia_Munn', 'Olivia_Thirlby', 'Olivia_Wilde', 'Olivia_Williams', 'Omari_Hardwick', 'Om_Puri', 'Oona_Chaplin', 'Oscar_Isaac', 'Pablo_Schreiber', 'Paddy_Considine', 'Padma_Lakshmi', 'Paget_Brewster', 'Paloma_Faith', 'Pamela_Adlon', 'Paolo_Sorrentino', 'Parineeti_Chopra', 'Patrick_Dempsey', 'Patrick_Duffy', 'Patrick_Fugit', 'Patrick_Swayze', 'Patrick_Wilson', 'Patton_Oswalt', 'Pat_Monahan', 'Paul_Dano', 'Paul_Feig', 'Paul_Giamatti', 'Paul_Gross', 'Paul_McGann', 'Paul_Reubens', 'Paul_Scheer', 'Paul_Sorvino', 'Paul_Wesley', 'Penn_Jillette', 'Peter_Berg', 'Peter_Capaldi', 'Peter_Coyote', 'Peter_Facinelli', 'Peter_Jackson', 'Peter_Jacobson', 'Pete_Wentz', 'Philip_Glenister', 'Phyllis_Diller', 'Pierfrancesco_Favino', 'Pierre_Niney', 'Pooja_Kumar', 'Poppy_Montgomery', 'Preity_Zinta', 'Prince', 'Quentin_Tarantino', 'Rachel_Dratch', 'Rachel_McAdams', 'Rade_Serbedzija', 'Raini_Rodriguez', 'Rainn_Wilson', 'Ralf_Little', 'Ralph_Macchio', 'Rami_Malek', 'Ranbir_Kapoor', 'Randeep_Hooda', 'Randolph_Mantooth', 'Raoul_Bova', 'Ray_Winstone', 'Reba_McEntire', 'Rebecca_Mader', 'Rebel_Wilson', 'Reece_Ritchie', 'Reggie_Lee', 'Regina_Hall', 'Reid_Scott', 'Rene_Auberjonois', 'Retta', 'Rhys_Darby', 'Rhys_Ifans', 'Richard_Ayoade', 'Richard_Dean_Anderson', 'Richard_E._Grant', 'Richard_Hammond', 'Richard_Kind', 'Richard_Madden', 'Ricky_Gervais', 'Rico_Rodriguez', 'Rik_Mayall', 'Riley_Smith', 'Rita_Ora', 'Riz_Ahmed', 'Robbie_Amell', 'Robbie_Kay', 'Robert_Carlyle', 'Robert_Davi', 'Robert_Pattinson', 'Robert_Picardo', 'Robert_Sheehan', 'Robert_Vaughn', 'Rob_Brydon', 'Rob_Corddry', 'Rob_Dyrdek', 'Rob_Reiner', 'Rob_Riggle', 'Roger_Ebert', 'Roma_Downey', 'Romeo_Miller', 'Ronda_Rousey', 'Ron_Jeremy', 'Ron_Livingston', 'Ron_Perlman', 'Rooney_Mara', 'Rory_Kennedy', 'Rose_McIver', 'Roshon_Fegan', 'Rosie_Huntington-Whiteley', 'Rowan_Atkinson', 'Ruby_Dee', 'Rue_McClanahan', 'Russell_Peters', 'Russell_Tovey', 'Ruta_Lee', 'Rutger_Hauer', 'Ruth_Jones', 'Ruth_Wilson', 'Ryan_Kwanten', 'Ryan_McPartlin', 'Ryan_Ochoa', 'Ryan_Phillippe', 'Ryan_Potter', 'RZA', 'S._Epatha_Merkerson', 'Sally_Hawkins', 'Samantha_Barks', 'Samira_Wiley', 'Sammi_Hanratty', 'Sammy_Davis_Jr', 'Samuel_L._Jackson', 'Sam_Heughan', 'Sam_Neill', 'Sam_Palladio', 'Sam_Raimi', 'Sam_Riley', 'Sam_Trammell', 'Sam_Waterston', 'Sam_Worthington', 'Sanaa_Lathan', 'Sandra_Bernhard', 'Sandra_Oh', 'Santiago_Cabrera', 'Sarah_Bolger', 'Sarah_Drew', 'Sarah_Gadon', 'Sarah_Hyland', 'Sarah_Palin', 'Sarah_Paulson', 'Sarah_Wayne_Callies', 'Sara_Gilbert', 'Sara_Ramirez', 'Sasha_Pieterse', 'Scott_Bakula', 'Scott_Porter', 'Scott_Speedman', 'Seann_William_Scott', 'Sean_Bean', 'Sean_Connery', 'Sean_Kanan', 'Sean_Maher', 'Sean_Patrick_Flanery', 'Sean_Pertwee', 'Sebastian_De_Souza', 'Sela_Ward', 'Selma_Blair', 'Sendhil_Ramamurthy', 'Senta_Berger', 'Serinda_Swan', 'Seth_Green', 'Seth_MacFarlane', 'Seth_Meyers', 'Seth_Rogen', 'Shahid_Kapoor', 'Shailene_Woodley', 'Shane_West', 'Shannen_Doherty', 'Sharlto_Copley', 'Sharni_Vinson', 'Sharon_Gless', 'Shay_Mitchell', 'Shemar_Moore', 'Sheridan_Smith', 'Sherri_Saum', 'Sherri_Shepherd', 'Sheryl_Lee_Ralph', 'Shiloh_Fernandez', 'Shiri_Appleby', 'Shirley_Manson', 'Shohreh_Aghdashloo', 'Shonda_Rhimes', 'Shraddha_Kapoor', 'Sidharth_Malhotra', 'Sidse_Babett_Knudsen', 'Sienna_Guillory', 'Silas_Weir_Mitchell', 'Simon_Baker', 'Simon_Callow', 'Simon_Pegg', 'Skylar_Astin', 'Smokey_Robinson', 'Sofia_Coppola', 'Sonam_Kapoor', 'Sonja_Sohn', 'Sophie_Okonedo', 'Spencer_Boldman', 'Stacy_Keach', 'Stana_Katic', 'Stanley_Tucci', 'Stan_Lee', 'Stefanie_Powers', 'Stephen_Baldwin', 'Stephen_Colbert', 'Stephen_Fry', 'Stephen_Lang', 'Stephen_Mangan', 'Stephen_Merchant', 'Sterling_Knight', 'Steven_Bauer', 'Steven_Berkoff', 'Steven_Moffat', 'Steven_R._McQueen', 'Steven_Soderbergh', 'Steven_Yeun', 'Steve_Burton', 'Steve_Carell', 'Steve_Harvey', 'Steve_Jobs', 'Steve_Martin', 'Stevie_Wonder', 'Sung_Kang', 'Sunny_Leone', 'Suraj_Sharma', 'Susanne_Bier', 'Susan_Lucci', 'Suzanne_Pleshette', 'Sydney_Pollack', 'T.J._Miller', 'Tabu', 'Tahj_Mowry', 'Tahmoh_Penikett', 'Tamala_Jones', 'Tamara_Taylor', 'Tamara_Tunie', 'Tamera_Mowry-Housley', 'Tamer_Hassan', 'Tamsin_Greig', 'Tanya_Tate', 'Taraji_P._Henson', 'Taryn_Manning', 'Tatiana_Maslany', 'Tatyana_Ali', 'Tavi_Gevinson', 'Taylor_Kitsch', 'Taylor_Lautner', 'Taylor_Momsen', 'Taylor_Swift', 'Teala_Dunn', 'Ted_Danson', 'Terence_Stamp', 'Teri_Hatcher', 'Terrence_Howard', 'Thandie_Newton', 'Theo_James', 'Theo_Rossi', 'Thomas_Dekker', 'Thomas_Gibson', 'Thomas_Haden_Church', 'Thomas_Ian_Nicholas', 'Thomas_Jane', 'Thomas_Lennon', 'Tilda_Swinton', 'Timothy_Spall', 'Tim_Burton', 'Tim_Daly', 'Tim_Gunn', 'Tim_Minchin', 'Tinsel_Korey', 'Titus_Welliver', 'Toby_Jones', 'Toby_Stephens', 'Todd_Lasance', 'Tom_Arnold', 'Tom_Bergeron', 'Tom_Ford', 'Tom_Hiddleston', 'Tom_Hooper', 'Tom_Kenny', 'Tom_Mison', 'Tom_Selleck', 'Tony_Curran', 'Tracey_Gold', 'Tracy_Morgan', 'Tristan_Wilds', 'Troye_Sivan', 'Tupac_Shakur', 'Tye_Sheridan', 'Tyler_Blackburn', 'Tyler_Hoechlin', 'Tyler_James_Williams', 'Ty_Pennington', 'Usher_Raymond', 'Uzo_Aduba', 'Vanessa_Hudgens', 'Vanessa_Lachey', 'Vanessa_Marcil', 'Vanilla_Ice', 'Veronica_Ferres', 'Vicky_McClure', 'Victoria_Justice', 'Victoria_Rowell', 'Vidya_Balan', 'Viggo_Mortensen', 'Vincent_Cassel', 'Vincent_Martella', 'Vincent_Pastore', 'Vince_Gilligan', 'Violante_Placido', 'Virginia_Madsen', 'Walter_Matthau', 'Walton_Goggins', 'Wanda_Sykes', 'Wendell_Pierce', 'Wendi_McLendon-Covey', 'Wendy_Williams', 'Wentworth_Miller', 'Wesley_Snipes', 'Wes_Bentley', 'Whitney_Cummings', 'Willem_Dafoe', 'William_Baldwin', 'William_Fichtner', 'William_Levy', 'Will_Arnett', 'Will_Forte', 'Will_Mellor', 'Will_Poulter', 'Will_Yun_Lee', 'Wilson_Cruz', 'Wim_Wenders', 'Witney_Carson', 'Woody_Harrelson', 'Xavier_Samuel', 'Yeardley_Smith', 'Yvette_Nicole_Brown', 'Zachary_Gordon', 'Zachary_Levi', 'Zachary_Quinto', 'Zach_Braff', 'Zach_Galifianakis', 'Zack_Snyder', 'Zac_Efron', 'Zoe_Saldana', 'Zulay_Henao']\n"
     ]
    }
   ],
   "source": [
    "import numpy as np\n",
    "import os \n",
    "import keras \n",
    "from keras.utils import to_categorical\n",
    "\n",
    "base = \"../freesound_audio_tagging/mfcc_no_pick_folders/\"\n",
    "classes = os.listdir(base)\n",
    "no_classes = len(classes)\n",
    "print(no_classes)\n",
    "print(classes)"
   ]
  },
  {
   "cell_type": "code",
   "execution_count": 2,
   "metadata": {},
   "outputs": [],
   "source": [
    "labels = {}\n",
    "i = 0 \n",
    "\n",
    "for c in classes:\n",
    "    c_images = os.listdir(base+c)\n",
    "    \n",
    "    for image in c_images:\n",
    "        labels[c+'/'+image] = i\n",
    "    i+=1 \n"
   ]
  },
  {
   "cell_type": "raw",
   "metadata": {},
   "source": [
    "#{'dogs/dog.201.jpg': 0, 'dogs/dog.7783.jpg': 0,  needs abosulute path ( base )"
   ]
  },
  {
   "cell_type": "code",
   "execution_count": 3,
   "metadata": {},
   "outputs": [],
   "source": [
    "def image_generator(input_ids, number_of_classes, batch_size = 32):\n",
    "  \n",
    "  while True:\n",
    "    batch_paths = np.random.choice(a= input_ids, size = batch_size)\n",
    "    \n",
    "    batch_input = []\n",
    "    batch_output = []\n",
    "    \n",
    "    for input_id in batch_paths:\n",
    "        \n",
    "        input = np.load(base+input_id)\n",
    "        output = labels[input_id]\n",
    "        output = to_categorical(output, num_classes=number_of_classes)\n",
    "        \n",
    "        batch_input += [input]\n",
    "        batch_output += [output]\n",
    "    \n",
    "\n",
    "   \n",
    "    batch_x = np.array(batch_input)\n",
    "    batch_y = np.array(batch_output)\n",
    "    \n",
    "    yield (batch_x, batch_y)"
   ]
  },
  {
   "cell_type": "code",
   "execution_count": 4,
   "metadata": {},
   "outputs": [],
   "source": [
    "from random import shuffle \n",
    "\n",
    "batch_size = 32 \n",
    "\n",
    "img_ids = list(labels.keys()) #each sample is a key and the return value of it, is the class number\n",
    "shuffle(img_ids)\n",
    "\n",
    "split = int(0.85 * len(img_ids))\n",
    "\n",
    "train_ids = img_ids[0:split]\n",
    "valid_ids = img_ids[split:]\n",
    "\n",
    "train_generator = image_generator(train_ids, batch_size = batch_size, number_of_classes=no_classes)\n",
    "valid_generator = image_generator(valid_ids, batch_size = batch_size, number_of_classes=no_classes)"
   ]
  },
  {
   "cell_type": "code",
   "execution_count": 5,
   "metadata": {},
   "outputs": [
    {
     "name": "stdout",
     "output_type": "stream",
     "text": [
      "1211\n",
      "148642\n",
      "126345\n",
      "22297\n"
     ]
    }
   ],
   "source": [
    "#Must know in order to break the loop\n",
    "\n",
    "print(no_classes)\n",
    "print(len(img_ids))\n",
    "print(len(train_ids))\n",
    "print(len(valid_ids))"
   ]
  },
  {
   "cell_type": "code",
   "execution_count": 6,
   "metadata": {},
   "outputs": [
    {
     "name": "stdout",
     "output_type": "stream",
     "text": [
      "(32, 64, 601)\n",
      "(32, 1211)\n"
     ]
    }
   ],
   "source": [
    "for x , y in train_generator:\n",
    "    print(x.shape)\n",
    "    print(y.shape)\n",
    "    break\n"
   ]
  },
  {
   "cell_type": "code",
   "execution_count": 7,
   "metadata": {},
   "outputs": [
    {
     "name": "stdout",
     "output_type": "stream",
     "text": [
      "[[-18.88588691 -18.11053636 -17.32712222 ... -70.07137836 -70.07137836\n",
      "  -70.07137836]\n",
      " [ -2.40344084  -2.75410612  -3.61304423 ... -70.07137836 -70.07137836\n",
      "  -70.07137836]\n",
      " [ -2.21146695  -1.97884491  -1.88291902 ... -70.07137836 -70.07137836\n",
      "  -70.07137836]\n",
      " ...\n",
      " [-35.64564594 -35.94942708 -36.46559079 ... -70.07137836 -70.07137836\n",
      "  -70.07137836]\n",
      " [-41.94179156 -42.70728271 -44.05150906 ... -70.07137836 -70.07137836\n",
      "  -70.07137836]\n",
      " [-45.11081132 -45.80438793 -47.51262409 ... -70.07137836 -70.07137836\n",
      "  -70.07137836]]\n"
     ]
    }
   ],
   "source": [
    "print(x[0])"
   ]
  },
  {
   "cell_type": "code",
   "execution_count": 10,
   "metadata": {},
   "outputs": [
    {
     "name": "stdout",
     "output_type": "stream",
     "text": [
      "[0. 0. 0. ... 0. 0. 0.]\n",
      "1.0\n",
      "365\n"
     ]
    }
   ],
   "source": [
    "print(y[0])\n",
    "print(y[0][365])\n",
    "print(np.argmax(y[0]))"
   ]
  },
  {
   "cell_type": "code",
   "execution_count": null,
   "metadata": {},
   "outputs": [],
   "source": []
  }
 ],
 "metadata": {
  "kernelspec": {
   "display_name": "Python 3",
   "language": "python",
   "name": "python3"
  },
  "language_info": {
   "codemirror_mode": {
    "name": "ipython",
    "version": 3
   },
   "file_extension": ".py",
   "mimetype": "text/x-python",
   "name": "python",
   "nbconvert_exporter": "python",
   "pygments_lexer": "ipython3",
   "version": "3.6.7"
  }
 },
 "nbformat": 4,
 "nbformat_minor": 2
}
